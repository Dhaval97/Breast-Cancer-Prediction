{
 "cells": [
  {
   "cell_type": "markdown",
   "id": "43eea8fe",
   "metadata": {},
   "source": [
    "# Breast Cancer Prediction using Machine Learning with GUI"
   ]
  },
  {
   "cell_type": "code",
   "execution_count": 1,
   "id": "cc1c40fe",
   "metadata": {
    "ExecuteTime": {
     "end_time": "2021-06-12T16:01:27.576546Z",
     "start_time": "2021-06-12T16:01:25.347873Z"
    }
   },
   "outputs": [],
   "source": [
    "import numpy as np\n",
    "import pandas as pd\n",
    "from sklearn.model_selection import train_test_split\n",
    "from sklearn.preprocessing import StandardScaler\n",
    "from sklearn.ensemble import RandomForestClassifier\n",
    "import tkinter as tk"
   ]
  },
  {
   "cell_type": "code",
   "execution_count": 2,
   "id": "406b1c5f",
   "metadata": {
    "ExecuteTime": {
     "end_time": "2021-06-12T16:01:28.118051Z",
     "start_time": "2021-06-12T16:01:28.097059Z"
    }
   },
   "outputs": [],
   "source": [
    "class BCP():\n",
    "    def training(self):\n",
    "        dataset = pd.read_csv('breast_cancer.csv')\n",
    "        X = dataset.iloc[:, 1:-1].values\n",
    "        y = dataset.iloc[:, -1].values\n",
    "        X_train, X_test, y_train, y_test = train_test_split(X, y, test_size = 0.25, random_state = 0)\n",
    "        self.sc = StandardScaler()\n",
    "        X_train = self.sc.fit_transform(X_train)\n",
    "        X_test = self.sc.transform(X_test)\n",
    "        self.classifier = RandomForestClassifier(n_estimators = 10, criterion = 'entropy', random_state = 0)\n",
    "        self.classifier.fit(X_train, y_train)\n",
    "        print('**********\\nTraining Complete\\n**********')\n",
    "        print('\\nAccuracy Score: {:.2f} %'.format(self.classifier.score(X_test, y_test)*100))\n",
    "    \n",
    "    def prediction(self, val):\n",
    "        self.training()\n",
    "        y_pred = self.classifier.predict(self.sc.transform(val))\n",
    "        return y_pred\n",
    "\n",
    "\n",
    "\n",
    "def onClick(event = None):\n",
    "    bcp = BCP()\n",
    "    root.focus_force()\n",
    "    try:\n",
    "        values = [[int(cthick.get()), int(ucsize.get()), int(ucshape.get()), int(ma.get()), int(cecsize.get()),\n",
    "                   int(bn.get()), int(bc.get()), int(nn.get()), int(mito.get())]]\n",
    "        tmp = ''\n",
    "        for i in values[0]:\n",
    "            tmp += str(i) + ', '\n",
    "        tk.Label(root, text = 'Values Passing For Prediction:\\n' + str(tmp[:25]), bg = '#7FB3D5',\n",
    "                 font = ('times new roman', 12, 'bold')).grid(row = 11, column = 0)\n",
    "        \n",
    "        root.unbind('<Return>')\n",
    "        btn['state'] = 'disabled'\n",
    "        btn.config(text = 'DISABLED', bg = '#808B96')\n",
    "            \n",
    "        pred_result = bcp.prediction(values)\n",
    "        \n",
    "        if (pred_result == 4):\n",
    "            root3 = tk.Tk()\n",
    "            root3.title('Prediction Result')\n",
    "            root3.focus_force()\n",
    "            tk.Label(root3, text = 'Person Have BREAST CANCER',\n",
    "                     font = ('times new roman', 20, 'bold'), fg = '#641E16', bg = '#EC7063', height = 2).grid()\n",
    "        else:\n",
    "            root3 = tk.Tk()\n",
    "            root3.title('Prediction Result')\n",
    "            root3.focus_force()\n",
    "            tk.Label(root3, text = 'Person Is HEALTHY',\n",
    "                     font = ('times new roman', 20, 'bold'), fg = '#239B56', bg = '#ABEBC6', height = 2).grid()\n",
    "            \n",
    "    except Exception as e:\n",
    "        #print(e)\n",
    "        root2 = tk.Tk()\n",
    "        root2.title('ERROR')\n",
    "        root2.focus_force()\n",
    "        lbl = tk.Label(root2, text = 'Please Fill All Values',\n",
    "                       font = ('times new roman', 20, 'bold'), fg = '#E74C3C', bg = '#F7DC6F', height = 2)\n",
    "        lbl.grid(row = 0, column = 0)"
   ]
  },
  {
   "cell_type": "code",
   "execution_count": 3,
   "id": "7362333f",
   "metadata": {
    "ExecuteTime": {
     "end_time": "2021-06-12T16:01:59.032861Z",
     "start_time": "2021-06-12T16:01:29.257090Z"
    },
    "scrolled": false
   },
   "outputs": [
    {
     "name": "stdout",
     "output_type": "stream",
     "text": [
      "**********\n",
      "Training Complete\n",
      "**********\n",
      "\n",
      "Accuracy Score: 95.32 %\n"
     ]
    }
   ],
   "source": [
    "root = tk.Tk()\n",
    "root.title('Breast Cancer Prediction')\n",
    "root.config(bg = '#7FB3D5')\n",
    "\n",
    "tk.Label(root, text = 'Fill Values between 1 - 10', bg = '#7FB3D5', font = ('times new roman', 12, 'bold')).grid(row = 0)\n",
    "\n",
    "tk.Label(root, text = 'Clump Thickness', bg = '#7FB3D5', font = ('times new roman', 12)).grid(row = 1, column = 0)\n",
    "cthick = tk.IntVar(); cthick.set('')\n",
    "clump = tk.Entry(root, textvariable = cthick, font = ('times new roman', 12))\n",
    "clump.grid(row = 1, column = 1, padx = 10)\n",
    "clump.focus()\n",
    "\n",
    "tk.Label(root, text = 'Uniformity of Cell Size', bg = '#7FB3D5', font = ('times new roman', 12)).grid(row = 2, column = 0)\n",
    "ucsize = tk.IntVar(); ucsize.set('')\n",
    "tk.Entry(root, textvariable = ucsize, font = ('times new roman', 12)).grid(row = 2, column = 1, padx = 10)\n",
    "\n",
    "tk.Label(root, text = 'Uniformity of Cell Shape', bg = '#7FB3D5', font = ('times new roman', 12)).grid(row = 3, column = 0)\n",
    "ucshape = tk.IntVar(); ucshape.set('')\n",
    "tk.Entry(root, textvariable = ucshape, font = ('times new roman', 12)).grid(row = 3, column = 1, padx = 10)\n",
    "\n",
    "tk.Label(root, text = 'Marginal Adhesion', bg = '#7FB3D5', font = ('times new roman', 12)).grid(row = 4, column = 0)\n",
    "ma = tk.IntVar(); ma.set('')\n",
    "tk.Entry(root, textvariable = ma, font = ('times new roman', 12)).grid(row = 4, column = 1, padx = 10)\n",
    "\n",
    "tk.Label(root, text = 'Single Epithelial Cell Size', bg = '#7FB3D5', font = ('times new roman', 12)).grid(row = 5, column = 0)\n",
    "cecsize = tk.IntVar(); cecsize.set('')\n",
    "tk.Entry(root, textvariable = cecsize, font = ('times new roman', 12)).grid(row = 5, column = 1, padx = 10)\n",
    "\n",
    "tk.Label(root, text = 'Bare Nuclei', bg = '#7FB3D5', font = ('times new roman', 12)).grid(row = 6, column = 0)\n",
    "bn = tk.IntVar(); bn.set('')\n",
    "tk.Entry(root, textvariable = bn, font = ('times new roman', 12)).grid(row = 6, column = 1, padx = 10)\n",
    "\n",
    "tk.Label(root, text = 'Bland Chromatin', bg = '#7FB3D5', font = ('times new roman', 12)).grid(row = 7, column = 0)\n",
    "bc = tk.IntVar(); bc.set('')\n",
    "tk.Entry(root, textvariable = bc, font = ('times new roman', 12)).grid(row = 7, column = 1, padx = 10)\n",
    "\n",
    "tk.Label(root, text = 'Normal Nucleoli', bg = '#7FB3D5', font = ('times new roman', 12)).grid(row = 8, column = 0)\n",
    "nn = tk.IntVar(); nn.set('')\n",
    "tk.Entry(root, textvariable = nn, font = ('times new roman', 12)).grid(row = 8, column = 1, padx = 10)\n",
    "\n",
    "tk.Label(root, text = 'Mitoses', bg = '#7FB3D5', font = ('times new roman', 12)).grid(row = 9, column = 0)\n",
    "mito = tk.IntVar(); mito.set('')\n",
    "tk.Entry(root, textvariable = mito, font = ('times new roman', 12)).grid(row = 9, column = 1, padx = 10)\n",
    "\n",
    "btn = tk.Button(root, text = 'Predict', command = (lambda: onClick(event = None)), bg = '#2ECC71',\n",
    "                font = ('Sans', '10', 'bold'))\n",
    "btn.grid(row = 11, column = 1, pady = 10, ipadx = 10, ipady = 10)\n",
    "\n",
    "root.bind('<Return>', onClick)\n",
    "\n",
    "root.focus_force()\n",
    "root.mainloop()"
   ]
  },
  {
   "cell_type": "code",
   "execution_count": null,
   "id": "45860291",
   "metadata": {},
   "outputs": [],
   "source": []
  }
 ],
 "metadata": {
  "kernelspec": {
   "display_name": "Python 3",
   "language": "python",
   "name": "python3"
  },
  "language_info": {
   "codemirror_mode": {
    "name": "ipython",
    "version": 3
   },
   "file_extension": ".py",
   "mimetype": "text/x-python",
   "name": "python",
   "nbconvert_exporter": "python",
   "pygments_lexer": "ipython3",
   "version": "3.8.8"
  },
  "varInspector": {
   "cols": {
    "lenName": 16,
    "lenType": 16,
    "lenVar": 40
   },
   "kernels_config": {
    "python": {
     "delete_cmd_postfix": "",
     "delete_cmd_prefix": "del ",
     "library": "var_list.py",
     "varRefreshCmd": "print(var_dic_list())"
    },
    "r": {
     "delete_cmd_postfix": ") ",
     "delete_cmd_prefix": "rm(",
     "library": "var_list.r",
     "varRefreshCmd": "cat(var_dic_list()) "
    }
   },
   "types_to_exclude": [
    "module",
    "function",
    "builtin_function_or_method",
    "instance",
    "_Feature"
   ],
   "window_display": false
  }
 },
 "nbformat": 4,
 "nbformat_minor": 5
}
